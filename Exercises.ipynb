{
 "cells": [
  {
   "cell_type": "markdown",
   "metadata": {},
   "source": [
    "# Learning to Predict the Next Robot Action"
   ]
  },
  {
   "cell_type": "markdown",
   "metadata": {},
   "source": [
    "## 1. Data Analysis"
   ]
  },
  {
   "cell_type": "code",
   "execution_count": 1,
   "metadata": {},
   "outputs": [],
   "source": [
    "#Load the data set\n",
    "\n",
    "import warnings\n",
    "warnings.filterwarnings('ignore')\n",
    "\n",
    "import pandas as pd\n",
    "\n",
    "narratives = pd.read_csv('data/narrative2vec.csv', sep=';')"
   ]
  },
  {
   "cell_type": "code",
   "execution_count": null,
   "metadata": {},
   "outputs": [],
   "source": [
    "narratives.info()"
   ]
  },
  {
   "cell_type": "code",
   "execution_count": null,
   "metadata": {
    "scrolled": true
   },
   "outputs": [],
   "source": [
    "narratives.head()"
   ]
  },
  {
   "cell_type": "code",
   "execution_count": null,
   "metadata": {},
   "outputs": [],
   "source": [
    "import header_names\n",
    "\n",
    "%matplotlib inline\n",
    "import matplotlib.pyplot as plt\n",
    "\n",
    "narratives[header_names.PARENT].value_counts().plot.pie(figsize=(10,10),autopct='%1.1f%%')\n"
   ]
  },
  {
   "cell_type": "code",
   "execution_count": null,
   "metadata": {},
   "outputs": [],
   "source": [
    "#TODO Create a piechart for label 'Next'"
   ]
  },
  {
   "cell_type": "markdown",
   "metadata": {},
   "source": [
    "<hr/>"
   ]
  },
  {
   "cell_type": "markdown",
   "metadata": {},
   "source": [
    "# 2. Data Preparation"
   ]
  },
  {
   "cell_type": "markdown",
   "metadata": {},
   "source": [
    "## 2.1 Filling Empty Cells"
   ]
  },
  {
   "cell_type": "code",
   "execution_count": null,
   "metadata": {},
   "outputs": [],
   "source": [
    "#Shows all columns which have empty blanks\n",
    "narratives.isna().any()"
   ]
  },
  {
   "cell_type": "code",
   "execution_count": null,
   "metadata": {},
   "outputs": [],
   "source": [
    "def fill_empty_cells(data):\n",
    "    filled_data = data.copy()\n",
    "    \n",
    "    filled_data[header_names.PARENT]= filled_data[header_names.PARENT].fillna('NoParent')\n",
    "    #TODO Fill the rest of the remaining empty cells\n",
    "    \n",
    "    return filled_data"
   ]
  },
  {
   "cell_type": "markdown",
   "metadata": {},
   "source": [
    "## 2.2 Transform Categorical Values to Numeric Values"
   ]
  },
  {
   "cell_type": "markdown",
   "metadata": {},
   "source": [
    "### 2.2.1 One Hot Encoding"
   ]
  },
  {
   "cell_type": "markdown",
   "metadata": {},
   "source": [
    "![alt text](img/OneHotEncoding.png \"One Hot Encoding Example\")"
   ]
  },
  {
   "cell_type": "code",
   "execution_count": null,
   "metadata": {},
   "outputs": [],
   "source": [
    "def transform_categorial_to_one_hot_encoded(data):\n",
    "    encoded_data = data.copy()\n",
    "    \n",
    "    encoded_parent_data = pd.get_dummies(encoded_data[header_names.PARENT], prefix='parent')\n",
    "    encoded_data = pd.concat([encoded_data, encoded_parent_data],axis=1)\n",
    "    \n",
    "    #TODO Transform the rest of the categorial features into one hot encoded features\n",
    "    #Hint: NEXT must not be encoded\n",
    "    \n",
    "    return encoded_data\n",
    "    "
   ]
  },
  {
   "cell_type": "markdown",
   "metadata": {},
   "source": [
    "## 2.3 Data Cleaning"
   ]
  },
  {
   "cell_type": "code",
   "execution_count": null,
   "metadata": {},
   "outputs": [],
   "source": [
    "def clean(data):\n",
    "    cleaned_data = data.copy()\n",
    "    \n",
    "    #TODO Decide which columns are not required to be able to predict the next robot action\n",
    "    #Hint: The NEXT column IS required.\n",
    "    \n",
    "    cols = [header_names.PARENT]\n",
    "    \n",
    "    for col in cols:\n",
    "        cleaned_data = cleaned_data.drop(col, 1)\n",
    "    \n",
    "    return cleaned_data"
   ]
  },
  {
   "cell_type": "markdown",
   "metadata": {},
   "source": [
    "## 2.4 Data Preparation Pipeline"
   ]
  },
  {
   "cell_type": "code",
   "execution_count": null,
   "metadata": {},
   "outputs": [],
   "source": [
    "def prepare_data(data):\n",
    "    prepared_data = data.copy()\n",
    "    \n",
    "    prepared_data = fill_empty_cells(prepared_data)\n",
    "    #TODO apply all preparation methods on prepare_data\n",
    "    \n",
    "    return prepared_data\n"
   ]
  },
  {
   "cell_type": "markdown",
   "metadata": {},
   "source": [
    "## 2.5 Prepared Data Evaluation"
   ]
  },
  {
   "cell_type": "code",
   "execution_count": null,
   "metadata": {},
   "outputs": [],
   "source": [
    "#TODO store the prepared narratives in a prepared_narratives variable and evalute them by printing them"
   ]
  },
  {
   "cell_type": "code",
   "execution_count": null,
   "metadata": {},
   "outputs": [],
   "source": [
    "#TODO verifiy that the prepared narratives do not have any empty cells"
   ]
  },
  {
   "cell_type": "markdown",
   "metadata": {},
   "source": [
    "<hr/>"
   ]
  },
  {
   "cell_type": "markdown",
   "metadata": {},
   "source": [
    "# 3. Brief Introduction to Decision Trees"
   ]
  },
  {
   "cell_type": "markdown",
   "metadata": {},
   "source": [
    "## 3.1 Classification Example "
   ]
  },
  {
   "cell_type": "code",
   "execution_count": 20,
   "metadata": {},
   "outputs": [
    {
     "data": {
      "text/html": [
       "<div>\n",
       "<style scoped>\n",
       "    .dataframe tbody tr th:only-of-type {\n",
       "        vertical-align: middle;\n",
       "    }\n",
       "\n",
       "    .dataframe tbody tr th {\n",
       "        vertical-align: top;\n",
       "    }\n",
       "\n",
       "    .dataframe thead th {\n",
       "        text-align: right;\n",
       "    }\n",
       "</style>\n",
       "<table border=\"1\" class=\"dataframe\">\n",
       "  <thead>\n",
       "    <tr style=\"text-align: right;\">\n",
       "      <th></th>\n",
       "      <th>object</th>\n",
       "      <th>context</th>\n",
       "      <th>goal</th>\n",
       "    </tr>\n",
       "  </thead>\n",
       "  <tbody>\n",
       "    <tr>\n",
       "      <th>0</th>\n",
       "      <td>bowl</td>\n",
       "      <td>setting-up</td>\n",
       "      <td>cupboard</td>\n",
       "    </tr>\n",
       "    <tr>\n",
       "      <th>1</th>\n",
       "      <td>bowl</td>\n",
       "      <td>cleaning</td>\n",
       "      <td>dishwasher</td>\n",
       "    </tr>\n",
       "    <tr>\n",
       "      <th>2</th>\n",
       "      <td>cereal</td>\n",
       "      <td>setting-up</td>\n",
       "      <td>cupboard</td>\n",
       "    </tr>\n",
       "    <tr>\n",
       "      <th>3</th>\n",
       "      <td>cereal</td>\n",
       "      <td>cleaning</td>\n",
       "      <td>cupboard</td>\n",
       "    </tr>\n",
       "    <tr>\n",
       "      <th>4</th>\n",
       "      <td>milk</td>\n",
       "      <td>setting-up</td>\n",
       "      <td>fridge</td>\n",
       "    </tr>\n",
       "    <tr>\n",
       "      <th>5</th>\n",
       "      <td>milk</td>\n",
       "      <td>cleaning</td>\n",
       "      <td>fridge</td>\n",
       "    </tr>\n",
       "    <tr>\n",
       "      <th>6</th>\n",
       "      <td>spoon</td>\n",
       "      <td>setting-up</td>\n",
       "      <td>drawer</td>\n",
       "    </tr>\n",
       "    <tr>\n",
       "      <th>7</th>\n",
       "      <td>spoon</td>\n",
       "      <td>cleaning</td>\n",
       "      <td>dishwasher</td>\n",
       "    </tr>\n",
       "  </tbody>\n",
       "</table>\n",
       "</div>"
      ],
      "text/plain": [
       "   object     context        goal\n",
       "0    bowl  setting-up    cupboard\n",
       "1    bowl    cleaning  dishwasher\n",
       "2  cereal  setting-up    cupboard\n",
       "3  cereal    cleaning    cupboard\n",
       "4    milk  setting-up      fridge\n",
       "5    milk    cleaning      fridge\n",
       "6   spoon  setting-up      drawer\n",
       "7   spoon    cleaning  dishwasher"
      ]
     },
     "execution_count": 20,
     "metadata": {},
     "output_type": "execute_result"
    }
   ],
   "source": [
    "import numpy as np\n",
    "\n",
    "example_data_set = np.array([['object','context','goal'],\n",
    "              ['bowl','setting-up','cupboard'],\n",
    "              ['bowl','cleaning','dishwasher'],\n",
    "              ['cereal','setting-up','cupboard'],\n",
    "              ['cereal','cleaning','cupboard'],\n",
    "              ['milk','setting-up','fridge'],\n",
    "              ['milk','cleaning','fridge'],\n",
    "              ['spoon','setting-up','drawer'],\n",
    "              ['spoon','cleaning','dishwasher']])\n",
    "\n",
    "\n",
    "example_data = pd.DataFrame(data=example_data_set[1:,0:],\n",
    "                         columns=example_data_set[0,0:])\n",
    "\n",
    "example_data"
   ]
  },
  {
   "cell_type": "code",
   "execution_count": 21,
   "metadata": {
    "scrolled": true
   },
   "outputs": [
    {
     "data": {
      "text/html": [
       "<div>\n",
       "<style scoped>\n",
       "    .dataframe tbody tr th:only-of-type {\n",
       "        vertical-align: middle;\n",
       "    }\n",
       "\n",
       "    .dataframe tbody tr th {\n",
       "        vertical-align: top;\n",
       "    }\n",
       "\n",
       "    .dataframe thead th {\n",
       "        text-align: right;\n",
       "    }\n",
       "</style>\n",
       "<table border=\"1\" class=\"dataframe\">\n",
       "  <thead>\n",
       "    <tr style=\"text-align: right;\">\n",
       "      <th></th>\n",
       "      <th>goal</th>\n",
       "      <th>object_bowl</th>\n",
       "      <th>object_cereal</th>\n",
       "      <th>object_milk</th>\n",
       "      <th>object_spoon</th>\n",
       "      <th>context_cleaning</th>\n",
       "      <th>context_setting-up</th>\n",
       "    </tr>\n",
       "  </thead>\n",
       "  <tbody>\n",
       "    <tr>\n",
       "      <th>0</th>\n",
       "      <td>cupboard</td>\n",
       "      <td>1</td>\n",
       "      <td>0</td>\n",
       "      <td>0</td>\n",
       "      <td>0</td>\n",
       "      <td>0</td>\n",
       "      <td>1</td>\n",
       "    </tr>\n",
       "    <tr>\n",
       "      <th>2</th>\n",
       "      <td>cupboard</td>\n",
       "      <td>0</td>\n",
       "      <td>1</td>\n",
       "      <td>0</td>\n",
       "      <td>0</td>\n",
       "      <td>0</td>\n",
       "      <td>1</td>\n",
       "    </tr>\n",
       "    <tr>\n",
       "      <th>3</th>\n",
       "      <td>cupboard</td>\n",
       "      <td>0</td>\n",
       "      <td>1</td>\n",
       "      <td>0</td>\n",
       "      <td>0</td>\n",
       "      <td>1</td>\n",
       "      <td>0</td>\n",
       "    </tr>\n",
       "    <tr>\n",
       "      <th>1</th>\n",
       "      <td>dishwasher</td>\n",
       "      <td>1</td>\n",
       "      <td>0</td>\n",
       "      <td>0</td>\n",
       "      <td>0</td>\n",
       "      <td>1</td>\n",
       "      <td>0</td>\n",
       "    </tr>\n",
       "    <tr>\n",
       "      <th>7</th>\n",
       "      <td>dishwasher</td>\n",
       "      <td>0</td>\n",
       "      <td>0</td>\n",
       "      <td>0</td>\n",
       "      <td>1</td>\n",
       "      <td>1</td>\n",
       "      <td>0</td>\n",
       "    </tr>\n",
       "    <tr>\n",
       "      <th>6</th>\n",
       "      <td>drawer</td>\n",
       "      <td>0</td>\n",
       "      <td>0</td>\n",
       "      <td>0</td>\n",
       "      <td>1</td>\n",
       "      <td>0</td>\n",
       "      <td>1</td>\n",
       "    </tr>\n",
       "    <tr>\n",
       "      <th>4</th>\n",
       "      <td>fridge</td>\n",
       "      <td>0</td>\n",
       "      <td>0</td>\n",
       "      <td>1</td>\n",
       "      <td>0</td>\n",
       "      <td>0</td>\n",
       "      <td>1</td>\n",
       "    </tr>\n",
       "    <tr>\n",
       "      <th>5</th>\n",
       "      <td>fridge</td>\n",
       "      <td>0</td>\n",
       "      <td>0</td>\n",
       "      <td>1</td>\n",
       "      <td>0</td>\n",
       "      <td>1</td>\n",
       "      <td>0</td>\n",
       "    </tr>\n",
       "  </tbody>\n",
       "</table>\n",
       "</div>"
      ],
      "text/plain": [
       "         goal  object_bowl  object_cereal  object_milk  object_spoon  \\\n",
       "0    cupboard            1              0            0             0   \n",
       "2    cupboard            0              1            0             0   \n",
       "3    cupboard            0              1            0             0   \n",
       "1  dishwasher            1              0            0             0   \n",
       "7  dishwasher            0              0            0             1   \n",
       "6      drawer            0              0            0             1   \n",
       "4      fridge            0              0            1             0   \n",
       "5      fridge            0              0            1             0   \n",
       "\n",
       "   context_cleaning  context_setting-up  \n",
       "0                 0                   1  \n",
       "2                 0                   1  \n",
       "3                 1                   0  \n",
       "1                 1                   0  \n",
       "7                 1                   0  \n",
       "6                 0                   1  \n",
       "4                 0                   1  \n",
       "5                 1                   0  "
      ]
     },
     "execution_count": 21,
     "metadata": {},
     "output_type": "execute_result"
    }
   ],
   "source": [
    "encoded_object_data = pd.get_dummies(example_data['object'], prefix='object')\n",
    "encoded_context_data = pd.get_dummies(example_data['context'], prefix='context')\n",
    "\n",
    "example_data = pd.concat([example_data, encoded_object_data],axis=1)\n",
    "example_data = pd.concat([example_data, encoded_context_data],axis=1)\n",
    "\n",
    "example_data = example_data.drop('object',1)\n",
    "example_data = example_data.drop('context',1)\n",
    "\n",
    "example_data.sort_values('goal')"
   ]
  },
  {
   "cell_type": "markdown",
   "metadata": {},
   "source": [
    "## 3.2 Preview of a Trained Decision Tree"
   ]
  },
  {
   "cell_type": "markdown",
   "metadata": {},
   "source": [
    "![alt text](img/example_tree.png \"Decision Tree for the Example\")"
   ]
  },
  {
   "cell_type": "markdown",
   "metadata": {},
   "source": [
    "## 3.3 CART (Classification and Regression Trees) Algorithm"
   ]
  },
  {
   "cell_type": "markdown",
   "metadata": {},
   "source": [
    "### 3.4 Gini Impurity"
   ]
  },
  {
   "cell_type": "markdown",
   "metadata": {},
   "source": [
    "$$G_i=1-\\sum_{c=1}^n {p_{i,c}}^2$$"
   ]
  },
  {
   "cell_type": "code",
   "execution_count": 25,
   "metadata": {},
   "outputs": [],
   "source": [
    "def get_gini(example_set):\n",
    "    cupboard_instances = float(example_set['goal'].value_counts().get('cupboard',0))\n",
    "    dishwasher_instances = float(example_set['goal'].value_counts().get('dishwasher',0))\n",
    "    drawer_instances = float(example_set['goal'].value_counts().get('drawer',0))\n",
    "    fridge_instances = float(example_set['goal'].value_counts().get('fridge',0))\n",
    "\n",
    "    instances = np.array([cupboard_instances, \n",
    "                          dishwasher_instances,\n",
    "                          drawer_instances,\n",
    "                          fridge_instances])\n",
    "    \n",
    "    total_instances = instances.sum()\n",
    "\n",
    "    return 1-np.power(np.divide(instances, total_instances),2).sum()\n"
   ]
  },
  {
   "cell_type": "markdown",
   "metadata": {},
   "source": [
    "### 3.5 Cost function"
   ]
  },
  {
   "cell_type": "markdown",
   "metadata": {},
   "source": [
    "$$J(k,t_k) = \\frac{m_{left}}{m}G_{left} + \\frac{m_{right}}{m}G_{right}$$"
   ]
  },
  {
   "cell_type": "markdown",
   "metadata": {},
   "source": [
    "\"We care about a large set with low impurity than a small set with high impurity\""
   ]
  },
  {
   "cell_type": "code",
   "execution_count": 23,
   "metadata": {},
   "outputs": [],
   "source": [
    "def cost(feature,threshold, data):\n",
    "    true_data = data[(data[feature] <= threshold)]\n",
    "    false_data = data[ (data[feature] > threshold)]\n",
    "\n",
    "    ginis = np.array([get_gini(true_data),get_gini(false_data)])\n",
    "    weights = np.divide(np.array([float(true_data.shape[0]),float(false_data.shape[0])]),data.shape[0])\n",
    "\n",
    "    return np.multiply(weights,ginis).sum()\n"
   ]
  },
  {
   "cell_type": "markdown",
   "metadata": {},
   "source": [
    "### 3.6 Picking a Threshold"
   ]
  },
  {
   "cell_type": "markdown",
   "metadata": {},
   "source": [
    "![alt text](img/midpoints.png \"Midpoints Scale\")"
   ]
  },
  {
   "cell_type": "markdown",
   "metadata": {},
   "source": [
    "### 3.7 Determining the Root Node"
   ]
  },
  {
   "cell_type": "code",
   "execution_count": 26,
   "metadata": {},
   "outputs": [
    {
     "data": {
      "text/html": [
       "<div>\n",
       "<style scoped>\n",
       "    .dataframe tbody tr th:only-of-type {\n",
       "        vertical-align: middle;\n",
       "    }\n",
       "\n",
       "    .dataframe tbody tr th {\n",
       "        vertical-align: top;\n",
       "    }\n",
       "\n",
       "    .dataframe thead th {\n",
       "        text-align: right;\n",
       "    }\n",
       "</style>\n",
       "<table border=\"1\" class=\"dataframe\">\n",
       "  <thead>\n",
       "    <tr style=\"text-align: right;\">\n",
       "      <th></th>\n",
       "      <th>J(k,t_k)</th>\n",
       "      <th>K</th>\n",
       "      <th>t_k</th>\n",
       "    </tr>\n",
       "  </thead>\n",
       "  <tbody>\n",
       "    <tr>\n",
       "      <th>2</th>\n",
       "      <td>0.458333</td>\n",
       "      <td>object_milk</td>\n",
       "      <td>0.5</td>\n",
       "    </tr>\n",
       "    <tr>\n",
       "      <th>1</th>\n",
       "      <td>0.541667</td>\n",
       "      <td>object_cereal</td>\n",
       "      <td>0.5</td>\n",
       "    </tr>\n",
       "    <tr>\n",
       "      <th>3</th>\n",
       "      <td>0.583333</td>\n",
       "      <td>object_spoon</td>\n",
       "      <td>0.5</td>\n",
       "    </tr>\n",
       "    <tr>\n",
       "      <th>4</th>\n",
       "      <td>0.625000</td>\n",
       "      <td>context_cleaning</td>\n",
       "      <td>0.5</td>\n",
       "    </tr>\n",
       "    <tr>\n",
       "      <th>5</th>\n",
       "      <td>0.625000</td>\n",
       "      <td>context_setting-up</td>\n",
       "      <td>0.5</td>\n",
       "    </tr>\n",
       "    <tr>\n",
       "      <th>0</th>\n",
       "      <td>0.666667</td>\n",
       "      <td>object_bowl</td>\n",
       "      <td>0.5</td>\n",
       "    </tr>\n",
       "  </tbody>\n",
       "</table>\n",
       "</div>"
      ],
      "text/plain": [
       "   J(k,t_k)                   K  t_k\n",
       "2  0.458333         object_milk  0.5\n",
       "1  0.541667       object_cereal  0.5\n",
       "3  0.583333        object_spoon  0.5\n",
       "4  0.625000    context_cleaning  0.5\n",
       "5  0.625000  context_setting-up  0.5\n",
       "0  0.666667         object_bowl  0.5"
      ]
     },
     "execution_count": 26,
     "metadata": {},
     "output_type": "execute_result"
    }
   ],
   "source": [
    "cost_table_headers = ['J(k,t_k)', 'K', 't_k']\n",
    "cost_table_rows = []\n",
    "\n",
    "for col in list(example_data):\n",
    "    if col != 'goal':\n",
    "        cost_table_rows.append([cost(col,0.5, example_data),col,0.5])\n",
    "\n",
    "cost_data = pd.DataFrame(data=cost_table_rows,\n",
    "                         columns=cost_table_headers)\n",
    "\n",
    "cost_data.sort_values('J(k,t_k)')"
   ]
  },
  {
   "cell_type": "markdown",
   "metadata": {},
   "source": [
    "## 3.8 Advantages & Disadvantages of Decision Trees"
   ]
  },
  {
   "cell_type": "markdown",
   "metadata": {},
   "source": [
    "### 3.8.1 Advantages"
   ]
  },
  {
   "cell_type": "markdown",
   "metadata": {},
   "source": [
    "<ul>\n",
    "  <li>White box models</li>\n",
    "  <li>Can be used for classification and regression problems</li>\n",
    "  <li>Even for multi output tasks</li>\n",
    "  <li>Can gives us insights about features</li> \n",
    "</ul> "
   ]
  },
  {
   "cell_type": "markdown",
   "metadata": {},
   "source": [
    "### 3.8.2 Disadvantages"
   ]
  },
  {
   "cell_type": "markdown",
   "metadata": {},
   "source": [
    "<ul>\n",
    "  <li>They are unstable</li>\n",
    "  <li>Decision boundaries are parallel to the axis</li>\n",
    "  <li>Overfit easily, if they are not limited by hyperparameters</li>\n",
    "</ul> "
   ]
  },
  {
   "cell_type": "markdown",
   "metadata": {},
   "source": [
    "![alt text](img/rotations_set.png \"Unstable Example\")"
   ]
  },
  {
   "cell_type": "markdown",
   "metadata": {},
   "source": [
    "![alt text](img/regularization.png \"Overfitting\")"
   ]
  },
  {
   "cell_type": "markdown",
   "metadata": {},
   "source": [
    "<hr/>"
   ]
  },
  {
   "cell_type": "markdown",
   "metadata": {},
   "source": [
    "# 4. Additional Machine Learning Theory"
   ]
  },
  {
   "cell_type": "markdown",
   "metadata": {},
   "source": [
    "## 4.1 Cross-validation"
   ]
  },
  {
   "cell_type": "markdown",
   "metadata": {},
   "source": [
    "![alt text](img/xval.png \"Example for Cross Validation\")"
   ]
  },
  {
   "cell_type": "markdown",
   "metadata": {},
   "source": [
    "## 4.2 Confusion Matrix"
   ]
  },
  {
   "cell_type": "markdown",
   "metadata": {},
   "source": [
    "![alt text](img/conf_matrix.png \"Example for a binary confusion matrix\")"
   ]
  },
  {
   "cell_type": "markdown",
   "metadata": {},
   "source": [
    "## 4.3 Classification Measurements"
   ]
  },
  {
   "cell_type": "markdown",
   "metadata": {},
   "source": [
    "$$ Accuracy = \\frac{TP + TN}{TP + FP + FN +TN}$$"
   ]
  },
  {
   "cell_type": "markdown",
   "metadata": {},
   "source": [
    "$$ Precision = \\frac{TP}{TP+FP}$$"
   ]
  },
  {
   "cell_type": "markdown",
   "metadata": {},
   "source": [
    "$$ Recall = \\frac{TP}{TP+FN}$$"
   ]
  },
  {
   "cell_type": "markdown",
   "metadata": {},
   "source": [
    "$$ F_1 = 2 * \\frac{Precision*Recall}{Precision+Recall}$$"
   ]
  },
  {
   "cell_type": "markdown",
   "metadata": {},
   "source": [
    "<hr/>"
   ]
  },
  {
   "cell_type": "markdown",
   "metadata": {},
   "source": [
    "# 5. Train the Next Action Classifier"
   ]
  },
  {
   "cell_type": "markdown",
   "metadata": {},
   "source": [
    "## 5.1 Splitting the Data Set"
   ]
  },
  {
   "cell_type": "code",
   "execution_count": null,
   "metadata": {},
   "outputs": [],
   "source": [
    "from sklearn.model_selection import train_test_split\n",
    "\n",
    "train_set, test_set = train_test_split(prepared_narratives, test_size=0.2, random_state=42)"
   ]
  },
  {
   "cell_type": "code",
   "execution_count": null,
   "metadata": {},
   "outputs": [],
   "source": [
    "def split_data_in_features_and_labels(data):\n",
    "    cols = list(data)\n",
    "    \n",
    "    features_cols = []\n",
    "    labels_cols = []\n",
    "    \n",
    "    for col in cols:\n",
    "        if not col.startswith('next'):\n",
    "            features_cols.append(col)\n",
    "        else:\n",
    "            labels_cols.append(col)\n",
    "            \n",
    "    features = data[features_cols]\n",
    "    labels = data[labels_cols]\n",
    "    \n",
    "    return (features, features_cols, labels, labels_cols)"
   ]
  },
  {
   "cell_type": "code",
   "execution_count": null,
   "metadata": {},
   "outputs": [],
   "source": [
    "#Splitting the training set into features and labels\n",
    "train_set_features, train_set_features_cols, train_set_labels, train_set_labels_cols \\\n",
    "    = split_data_in_features_and_labels(train_set)\n",
    "\n",
    "train_set_labels.head()"
   ]
  },
  {
   "cell_type": "code",
   "execution_count": null,
   "metadata": {},
   "outputs": [],
   "source": [
    "#TODO Split the test set into features and labels. Their variables should have the prefix test_set"
   ]
  },
  {
   "cell_type": "markdown",
   "metadata": {},
   "source": [
    "## 5.2 Train and Tune the Model Simultaneously"
   ]
  },
  {
   "cell_type": "code",
   "execution_count": null,
   "metadata": {},
   "outputs": [],
   "source": [
    "from sklearn.model_selection import GridSearchCV\n",
    "from sklearn.tree import DecisionTreeClassifier, export_graphviz\n",
    "\n",
    "\n",
    "#TODO find parameters which achieve a F1 score over 90%\n",
    "parameters = {'max_depth':range(1,9,1), 'max_leaf_nodes': range(2,21,1)}\n",
    "\n",
    "classifier = GridSearchCV(DecisionTreeClassifier(), parameters, cv=10, n_jobs=4)\n",
    "\n",
    "classifier.fit(train_set_features, train_set_labels)\n",
    "\n",
    "tree_model = classifier.best_estimator_\n",
    "\n",
    "print (classifier.best_score_, classifier.best_params_)"
   ]
  },
  {
   "cell_type": "code",
   "execution_count": null,
   "metadata": {},
   "outputs": [],
   "source": [
    "from sklearn.tree import export_graphviz\n",
    "\n",
    "export_graphviz(tree_model, out_file='data/tree.dot', feature_names=train_set_features_cols, class_names=tree_model.classes_)\n",
    "#dot -Tpng tree.dot -o tree.png"
   ]
  },
  {
   "cell_type": "markdown",
   "metadata": {},
   "source": [
    "<hr/>"
   ]
  },
  {
   "cell_type": "markdown",
   "metadata": {},
   "source": [
    "# 6. Evaluate the Next Action Classifier"
   ]
  },
  {
   "cell_type": "code",
   "execution_count": null,
   "metadata": {},
   "outputs": [],
   "source": [
    "from sklearn.metrics import classification_report\n",
    "\n",
    "y_true, y_pred = test_set_labels, tree_model.predict(test_set_features)\n",
    "print (classification_report(y_true, y_pred))"
   ]
  },
  {
   "cell_type": "code",
   "execution_count": null,
   "metadata": {},
   "outputs": [],
   "source": [
    "from sklearn.metrics import confusion_matrix\n",
    "from confusion_matrix_plotter import plot_confusion_matrix\n",
    "\n",
    "conf_mat = confusion_matrix(y_true, y_pred)\n",
    "\n",
    "plt.figure(figsize=(20, 20))\n",
    "plot_confusion_matrix(conf_mat, classes=tree_model.classes_,\n",
    "                      title='Confusion matrix, for the next action classifier')\n",
    "\n",
    "plt.show()"
   ]
  },
  {
   "cell_type": "code",
   "execution_count": null,
   "metadata": {},
   "outputs": [],
   "source": [
    "#TODO Tell why the classifier cannot differ between AcquireGraspOfSomething and MovingToLocation during prediction\n",
    "#Hint 1: Compare the features between thoses labels\n",
    "#Hint 2: Analyze the trained decision tree\n",
    "\n",
    "#Print all features of the label 'AcquireGraspOfSomething'\n",
    "sub_narratives = narratives[(narratives.next == 'AcquireGraspOfSomething')]\n",
    "sub_narratives[[header_names.PARENT, header_names.PREVIOUS, header_names.TYPE]]\n"
   ]
  },
  {
   "cell_type": "code",
   "execution_count": null,
   "metadata": {
    "scrolled": true
   },
   "outputs": [],
   "source": [
    "\n"
   ]
  }
 ],
 "metadata": {
  "kernelspec": {
   "display_name": "Python 3",
   "language": "python",
   "name": "python3"
  },
  "language_info": {
   "codemirror_mode": {
    "name": "ipython",
    "version": 3
   },
   "file_extension": ".py",
   "mimetype": "text/x-python",
   "name": "python",
   "nbconvert_exporter": "python",
   "pygments_lexer": "ipython3",
   "version": "3.6.9"
  }
 },
 "nbformat": 4,
 "nbformat_minor": 2
}
